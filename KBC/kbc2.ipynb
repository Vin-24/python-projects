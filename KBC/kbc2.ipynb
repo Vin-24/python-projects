{
 "cells": [
  {
   "cell_type": "code",
   "execution_count": 1,
   "id": "3ebea02c-b065-4df9-8ef5-8266ea1544a4",
   "metadata": {
    "tags": []
   },
   "outputs": [],
   "source": [
    "import random\n",
    "questions=[\"Q1. Besides Sachin Tendulkar, who is the only other Indian cricketer to have scored over 13,000 runs in test cricket?\",\n",
    "          \"Q2.Ranthambore, Sariska and Keoladeo Ghana are all names of what?\",\n",
    "          \"Q3. India’s official entry to Oscars 2021, ” Jallikattu” is, a film in which language?\",\n",
    "          \"Q4.In terms of production, which of these is the largest train coach manufacturing unit in the world?\",\n",
    "          \"Q5.In 2020, Louise Gluck won the Nobel Prize in which category?\",\n",
    "          \"Q6.Which of the following companies was originally started as a loom manufacturing unit in 1909?\",\n",
    "          \"Q7.In 1994, who became the winner of the first-ever Filmfare R D Burman Award for New Music Talent?\",\n",
    "          \"Q8. What colour did Lord Shiva’s throat turn into when he drank the deadly poison during Samudra Manthan?\",\n",
    "          \"Q9.What is the profession of Kabir in the film Kabir Singh?\",\n",
    "          \"Q10.Which of these national parks is named after the river that flows through the park?\",\n",
    "          \"Q11.Which state is the largest producer of sugarcane in India?\",\n",
    "          \"Q12.Which of these colors when mixed with red will produce the color orange?\",\n",
    "          \"Q13.Which of these is an ashram set up by Gandhiji set up near Wardha in Maharashtra?\",\n",
    "          \"Q14.Who of the following personalities is not married to a sports person?\",\n",
    "          \"Q15.Which part of the plant absorbs water and nutrients from the soil?\"]\n",
    "\n",
    "\n",
    "options=[('A. Virat Kohli', 'B.Sunil Gavaskar', 'C.VVS laxman', 'D.Rahul Dravid'),\n",
    "         ('A. National Parks', 'B. Goosebumps', 'C. Mountains', 'D. Rivers'),\n",
    "        ('A. Hindi', 'B. Punjabi', 'C. Kannada', 'D. Malayalam'),\n",
    "        ('A. Integral Coach Factory, Bangalore', 'B. Integral Coach Factory, Mumbai', 'C. Integral Coach Factory, Chennai', 'D. Integral Coach Factory, Kolkata'),\n",
    "        ('A. Music', 'B. Sports', 'C. Literature', 'D. Dance'),\n",
    "        ('A. Suzuki', 'B. CEAT', 'C. Honda', 'D. Mercedes'),\n",
    "        ('A. Udit Narayan', 'B. A. R. Rahman', 'C. Lata Mangeshkar', 'D. Raj Burman'),\n",
    "        ('A. Red', 'B. Yellow', 'C. Blue', 'D. Black'),\n",
    "        ('A. Engineer', 'B. Cricketor', 'C. Athlete', 'D. Doctor'),\n",
    "        ('A. Pench', 'B. Tadoba', 'C. Vrindavan', 'D. Wildera'),\n",
    "        ('A. Maharashtra', 'B. Karnataka', 'C. Madhya Pradesh', 'D. Uttar Pradesh'),\n",
    "        ('A. Violet', 'B. Green', 'C. Orange', 'D. Yellow'),\n",
    "        ('A. Sri Aurobindo Ashram', 'B. Parmarth Niketan Ashram', 'C. Sevagram', 'D. Sivananda Ashram'),\n",
    "        ('A. Anushka Sharma', 'B. Sakshi Singh Rawat', 'C. Mahesh Bhupathi', 'D. Sharmila Tagore'),\n",
    "        ('A. Stem', 'B. Buds', 'C. Leafs', 'D. Root')]\n",
    "\n",
    "\n",
    "answers=['D','A','D','A','C','A','B','C','D','A','D','D','C','C','D']\n",
    "\n",
    "passquestion=[\"Q. What is the shape of the cells in a honeycomb made by bees?\"]\n",
    "passoption=['A. Octagon', 'B. Hexagon', 'C. Square', 'D. Oval']"
   ]
  },
  {
   "cell_type": "code",
   "execution_count": null,
   "id": "b8f78050-6832-4a1e-ac82-bd506fc25839",
   "metadata": {},
   "outputs": [],
   "source": []
  },
  {
   "cell_type": "code",
   "execution_count": null,
   "id": "ab50ef10-cd09-4be9-a9cb-5a87d338e11a",
   "metadata": {
    "tags": []
   },
   "outputs": [
    {
     "name": "stdout",
     "output_type": "stream",
     "text": [
      "Q1. Besides Sachin Tendulkar, who is the only other Indian cricketer to have scored over 13,000 runs in test cricket?\n",
      "('A. Virat Kohli', 'B.Sunil Gavaskar', 'C.VVS laxman', 'D.Rahul Dravid')\n",
      "\n"
     ]
    },
    {
     "name": "stdin",
     "output_type": "stream",
     "text": [
      "Press A/B/C/D to give the answer\n",
      "or\n",
      "Press 2 For LifeLine:  2\n"
     ]
    },
    {
     "name": "stdout",
     "output_type": "stream",
     "text": [
      "\n",
      "You have Three Life Lines \n",
      " 1] 50 - 50 Life Line  \n",
      " 2]FlipTheQuestion  \n",
      " 3] Audience Poll\n"
     ]
    },
    {
     "name": "stdin",
     "output_type": "stream",
     "text": [
      "Press 1 for 50-50 \n",
      "Press 2 For Flip The Question \n",
      " Press 3 for Audience Poll 1\n"
     ]
    },
    {
     "name": "stdout",
     "output_type": "stream",
     "text": [
      "Q1. Besides Sachin Tendulkar, who is the only other Indian cricketer to have scored over 13,000 runs in test cricket?\n",
      "('A. Virat Kohli', 'B.Sunil Gavaskar', 'C.VVS laxman', 'D.Rahul Dravid')\n",
      "here is your option -- D C\n"
     ]
    }
   ],
   "source": [
    "points=[10,20,30,40,50,60,70,80,90,100,120,140,160,180,200]\n",
    "prize=0\n",
    "for i in range(len(questions)):\n",
    "    print(questions[i])\n",
    "    print(options[i])\n",
    "    print()\n",
    "    choice = input(\"Press A/B/C/D to give the answer\\nor\\nPress 2 For LifeLine: \").upper()\n",
    "    if choice == 'A' or choice == 'B' or choice == 'C' or choice == 'D' :\n",
    "        ans = choice\n",
    "        if ans.isalpha():\n",
    "            if ans == answers[i]:\n",
    "                print()\n",
    "                print(f\"Right Answer and you win {points[i]} Points\")\n",
    "                prize += points[i]\n",
    "            else:\n",
    "                prize = points[i]\n",
    "                print(\"Wrong Answer and you are Eliminated \")\n",
    "                print()\n",
    "                print(f\"Thanks for playing the game you win: {prize} Points\")\n",
    "                break\n",
    "        else: \n",
    "            print(\"Enter valid input\")\n",
    "            break       \n",
    "    elif choice == '2':\n",
    "        print(\"\\nYou have Three Life Lines \\n 1] 50 - 50 Life Line  \\n 2]FlipTheQuestion  \\n 3] Audience Poll\")\n",
    "        life_line = int(input('''Press 1 for 50-50 \\nPress 2 For Flip The Question \\n Press 3 for Audience Poll'''))\n",
    "        if life_line ==1:\n",
    "            if fifty_fifty():\n",
    "                print()\n",
    "                print('Right Answer and you win', points[i], \"Points\")\n",
    "                prize += points[i]\n",
    "            else:\n",
    "                prize = points[i]\n",
    "                print(\"Wrong Answer and you are Eliminated \")\n",
    "                print()\n",
    "                print(\"Thanks for playing the game you win: \", prize ,\"Points\")\n",
    "                break\n",
    "            \n",
    "        elif life_line == 2:\n",
    "            \n",
    "            if FlipTheQuestion():\n",
    "                print('Right Answer and you win', points[i], \"Points\")\n",
    "                prize += points[i]\n",
    "                \n",
    "            else:\n",
    "                prize = points[i]\n",
    "                print(\"Wrong Answer and you are Eliminated \")\n",
    "                print()\n",
    "                print(\"Thanks for playing the game you win: \", prize ,\"Points\")\n",
    "                break\n",
    "                \n",
    "        elif life_line ==3:\n",
    "            if AudiencePoll():\n",
    "                print('Right Answer and you win', points[i], \"Points\")\n",
    "                prize += points[i]\n",
    "                \n",
    "            else:\n",
    "                prize = points[i]\n",
    "                print(\"Wrong Answer and you are Eliminated \")\n",
    "                print()\n",
    "                print(\"Thanks for playing the game you win: \", prize ,\"Points\")\n",
    "                break\n",
    "        else:\n",
    "            print(\"invalid input\")\n",
    "        \n",
    "        \n",
    "    else: \n",
    "        print(\"Enter valid input\")\n",
    "        break\n",
    "        \n",
    "        \n",
    "        \n",
    "            \n",
    "    "
   ]
  },
  {
   "cell_type": "code",
   "execution_count": 2,
   "id": "97a78e6b-c9a5-462b-b052-7745a2e7c0be",
   "metadata": {
    "tags": []
   },
   "outputs": [
    {
     "ename": "NameError",
     "evalue": "name 'i' is not defined",
     "output_type": "error",
     "traceback": [
      "\u001b[1;31m---------------------------------------------------------------------------\u001b[0m",
      "\u001b[1;31mNameError\u001b[0m                                 Traceback (most recent call last)",
      "Cell \u001b[1;32mIn[2], line 18\u001b[0m\n\u001b[0;32m     16\u001b[0m             prize\u001b[38;5;241m=\u001b[39mpoints\n\u001b[0;32m     17\u001b[0m             \u001b[38;5;28;01mreturn\u001b[39;00m \u001b[38;5;28;01mFalse\u001b[39;00m\n\u001b[1;32m---> 18\u001b[0m \u001b[43mfifty_fifty\u001b[49m\u001b[43m(\u001b[49m\u001b[43m)\u001b[49m        \n",
      "Cell \u001b[1;32mIn[2], line 2\u001b[0m, in \u001b[0;36mfifty_fifty\u001b[1;34m()\u001b[0m\n\u001b[0;32m      1\u001b[0m \u001b[38;5;28;01mdef\u001b[39;00m \u001b[38;5;21mfifty_fifty\u001b[39m():\n\u001b[1;32m----> 2\u001b[0m     \u001b[38;5;28mprint\u001b[39m(questions[\u001b[43mi\u001b[49m])\n\u001b[0;32m      3\u001b[0m     \u001b[38;5;28mprint\u001b[39m(options[i])\n\u001b[0;32m      4\u001b[0m     opt1\u001b[38;5;241m=\u001b[39manswers[i]\n",
      "\u001b[1;31mNameError\u001b[0m: name 'i' is not defined"
     ]
    }
   ],
   "source": [
    "def fifty_fifty():\n",
    "    print(questions[i])\n",
    "    print(options[i])\n",
    "    opt1=answers[i]\n",
    "    opt2=random.choice(answers)\n",
    "    if opt1==opt2:\n",
    "        opt2=random.choice(answers)\n",
    "    else:\n",
    "        print(\"here is your option --\", opt1, opt2)\n",
    "        ans2=input(\"enter your answer\").upper()\n",
    "        if ans2==opt1:\n",
    "            print(\"right answer\")\n",
    "            return True\n",
    "        else:\n",
    "            print(\"wrong answer\")\n",
    "            prize=points\n",
    "            return False\n",
    "fifty_fifty()        \n",
    "    \n",
    "   "
   ]
  },
  {
   "cell_type": "code",
   "execution_count": 4,
   "id": "b4414d9d-b51e-4c44-9547-424e37514ea9",
   "metadata": {
    "tags": []
   },
   "outputs": [
    {
     "name": "stdout",
     "output_type": "stream",
     "text": [
      "['Q. What is the shape of the cells in a honeycomb made by bees?']\n",
      "['A. Octagon', 'B. Hexagon', 'C. Square', 'D. Oval']\n"
     ]
    },
    {
     "name": "stdin",
     "output_type": "stream",
     "text": [
      "enter your anser b\n"
     ]
    },
    {
     "name": "stdout",
     "output_type": "stream",
     "text": [
      "wrong answer\n"
     ]
    },
    {
     "data": {
      "text/plain": [
       "False"
      ]
     },
     "execution_count": 4,
     "metadata": {},
     "output_type": "execute_result"
    }
   ],
   "source": [
    "def flipthequestion():\n",
    "    print(passquestion)\n",
    "    print(passoption)\n",
    "    passanswer==input(\"enter your anser\").upper()\n",
    "    if passanswer=='B':\n",
    "        print(\"right answer\")\n",
    "        return True\n",
    "    else:\n",
    "        print(\"wrong answer\")\n",
    "        return False\n",
    "flipthequestion()    "
   ]
  },
  {
   "cell_type": "code",
   "execution_count": null,
   "id": "bc146b53-53a1-49ba-adf5-5cbb5d245290",
   "metadata": {},
   "outputs": [],
   "source": []
  }
 ],
 "metadata": {
  "kernelspec": {
   "display_name": "Python 3 (ipykernel)",
   "language": "python",
   "name": "python3"
  },
  "language_info": {
   "codemirror_mode": {
    "name": "ipython",
    "version": 3
   },
   "file_extension": ".py",
   "mimetype": "text/x-python",
   "name": "python",
   "nbconvert_exporter": "python",
   "pygments_lexer": "ipython3",
   "version": "3.10.4"
  }
 },
 "nbformat": 4,
 "nbformat_minor": 5
}
