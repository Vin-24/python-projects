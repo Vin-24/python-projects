{
 "cells": [
  {
   "cell_type": "code",
   "execution_count": 1,
   "id": "c37cf03d-3177-4fb3-b5af-c8201aa5188a",
   "metadata": {
    "tags": []
   },
   "outputs": [
    {
     "name": "stdin",
     "output_type": "stream",
     "text": [
      "type a number:  6\n",
      "make a gues:  6\n"
     ]
    },
    {
     "name": "stdout",
     "output_type": "stream",
     "text": [
      "you were above the number\n"
     ]
    },
    {
     "name": "stdin",
     "output_type": "stream",
     "text": [
      "make a gues:  4\n"
     ]
    },
    {
     "name": "stdout",
     "output_type": "stream",
     "text": [
      "you were above the number\n"
     ]
    },
    {
     "name": "stdin",
     "output_type": "stream",
     "text": [
      "make a gues:  0\n"
     ]
    },
    {
     "name": "stdout",
     "output_type": "stream",
     "text": [
      "you were below the number\n"
     ]
    },
    {
     "name": "stdin",
     "output_type": "stream",
     "text": [
      "make a gues:  1\n"
     ]
    },
    {
     "name": "stdout",
     "output_type": "stream",
     "text": [
      "you were below the number\n"
     ]
    },
    {
     "name": "stdin",
     "output_type": "stream",
     "text": [
      "make a gues:  2\n"
     ]
    },
    {
     "name": "stdout",
     "output_type": "stream",
     "text": [
      "you were below the number\n"
     ]
    },
    {
     "name": "stdin",
     "output_type": "stream",
     "text": [
      "make a gues:  3\n"
     ]
    },
    {
     "name": "stdout",
     "output_type": "stream",
     "text": [
      "correct\n",
      "you got it in 6 guesses\n"
     ]
    }
   ],
   "source": [
    "import random\n",
    "\n",
    "n= int(input(\"type a number: \"))\n",
    "if n<=0:\n",
    "    print(\"please type a number larger than 0 next time: \")\n",
    "    quit()\n",
    "    \n",
    "r=random.randrange(n)\n",
    "\n",
    "guesses=0\n",
    "\n",
    "while True:\n",
    "    guesses+=1\n",
    "    guess=input(\"make a gues: \")\n",
    "    if guess.isdigit():\n",
    "        guess=int(guess)\n",
    "    else:\n",
    "        print(\"please type the number next time \")\n",
    "        continue\n",
    "    if guess==r:\n",
    "        print(\"correct\")\n",
    "        break\n",
    "\n",
    "    elif guess>r: print(\"you were above the number\")\n",
    "    \n",
    "    else:print(\"you were below the number\")    \n",
    "print(f\"you got it in {guesses} guesses\")\n",
    "        \n",
    "\n"
   ]
  },
  {
   "cell_type": "code",
   "execution_count": null,
   "id": "14b99bea-4903-494b-99e5-3debacccc6c2",
   "metadata": {},
   "outputs": [],
   "source": []
  }
 ],
 "metadata": {
  "kernelspec": {
   "display_name": "Python 3 (ipykernel)",
   "language": "python",
   "name": "python3"
  },
  "language_info": {
   "codemirror_mode": {
    "name": "ipython",
    "version": 3
   },
   "file_extension": ".py",
   "mimetype": "text/x-python",
   "name": "python",
   "nbconvert_exporter": "python",
   "pygments_lexer": "ipython3",
   "version": "3.10.4"
  }
 },
 "nbformat": 4,
 "nbformat_minor": 5
}
