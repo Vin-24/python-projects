{
 "cells": [
  {
   "cell_type": "code",
   "execution_count": 1,
   "id": "84a6740e-40ca-4b69-bace-5ca41f6a9430",
   "metadata": {
    "tags": []
   },
   "outputs": [
    {
     "name": "stdin",
     "output_type": "stream",
     "text": [
      "would you like to add a new passwod or view existing ones (view, add)?, or\n",
      " press q to quit  add\n",
      "account name:  vin\n",
      "password:  12345678\n",
      "would you like to add a new passwod or view existing ones (view, add)?, or\n",
      " press q to quit  view\n"
     ]
    },
    {
     "name": "stdout",
     "output_type": "stream",
     "text": [
      "\n",
      "user: vin | password: 12345678\n"
     ]
    },
    {
     "name": "stdin",
     "output_type": "stream",
     "text": [
      "would you like to add a new passwod or view existing ones (view, add)?, or\n",
      " press q to quit  q\n"
     ]
    }
   ],
   "source": [
    "from cryptography.fernet import Fernet\n",
    "\n",
    "\n",
    "\"\"\"def write_key():\n",
    "    key=Fernet.generate_key()\n",
    "    with open(\"key.key\",\"wb\") as key_file:\n",
    "        key_file.write(key)\n",
    "write_key() \"\"\" \n",
    "\n",
    "# def load_key():\n",
    "#     file=open(\"key.key\", \"rb\")\n",
    "#     key=file.read()\n",
    "#     file.close()\n",
    "#     return key\n",
    "\n",
    "def load_key():\n",
    "    with open('key.key', 'rb') as file:\n",
    "        key = file.read()\n",
    "    return key\n",
    "\n",
    "fer = Fernet(load_key())\n",
    "\n",
    "def view():\n",
    "       with open('password.txt', 'r') as f:\n",
    "        for line in f.readlines():\n",
    "            data = line.rstrip()\n",
    "            if \"|\" not in data:\n",
    "                print(data)\n",
    "                continue\n",
    "            user, passw = data.split(\"|\")\n",
    "            print(\"user:\", user, \"| password:\", fer.decrypt(passw.encode()).decode())\n",
    "\n",
    "\n",
    "def add():\n",
    "    name=input('account name: ')\n",
    "    pwd=input('password: ')\n",
    "    #file=open('password.txt', 'a')\n",
    "    #file.close()\n",
    "    #w= write mode, r=read mode, a= append mode, wb=write bytes\n",
    "    with open('password.txt', 'a') as f:\n",
    "        f.write(name+ '|' + fer.encrypt(pwd.encode()).decode()+ \"\\n\")\n",
    "        \n",
    "while True:\n",
    "    mode=input(\"would you like to add a new passwod or view existing ones (view, add)?, or\\n press q to quit \").lower()\n",
    "    if mode=='q':\n",
    "        break\n",
    "    elif mode=='view':\n",
    "        view()\n",
    "    elif mode=='add':\n",
    "        add()\n",
    "    else:\n",
    "        print(\"invalid mode\")\n",
    "        continue"
   ]
  },
  {
   "cell_type": "code",
   "execution_count": 5,
   "id": "93bfe095-74ed-400c-bd6a-4d56c9cbc7d7",
   "metadata": {
    "tags": []
   },
   "outputs": [
    {
     "name": "stdin",
     "output_type": "stream",
     "text": [
      "account name:  hii\n",
      "password:  1234\n"
     ]
    }
   ],
   "source": [
    "def add():\n",
    "    name=input('account name: ')\n",
    "    pwd=input('password: ')\n",
    "    #file=open('password.txt', 'a')\n",
    "    #file.close()\n",
    "    #w= write mode, r=read mode, a= append mode\n",
    "    with open('password.txt', 'a') as f:\n",
    "        f.write(name+ '|' + pwd + \"\\n\")\n",
    "    \n",
    "add()    "
   ]
  },
  {
   "cell_type": "code",
   "execution_count": 6,
   "id": "67cf7c5e-075c-41bb-b7a9-a088c720fdea",
   "metadata": {
    "tags": []
   },
   "outputs": [
    {
     "name": "stdout",
     "output_type": "stream",
     "text": [
      "user: hii password: 1234\n"
     ]
    }
   ],
   "source": [
    "def view():\n",
    "    with open('password.txt', 'r') as f:\n",
    "        for line in f.readlines():\n",
    "            data=line.rstrip()\n",
    "            user, passw = data.split(\"|\")\n",
    "            print(\"user:\", user, \"password:\", passw)\n",
    "view()            \n",
    "    "
   ]
  },
  {
   "cell_type": "code",
   "execution_count": null,
   "id": "fa5af4bc-acfe-44fc-a245-37e566a147ff",
   "metadata": {},
   "outputs": [],
   "source": []
  }
 ],
 "metadata": {
  "kernelspec": {
   "display_name": "Python 3 (ipykernel)",
   "language": "python",
   "name": "python3"
  },
  "language_info": {
   "codemirror_mode": {
    "name": "ipython",
    "version": 3
   },
   "file_extension": ".py",
   "mimetype": "text/x-python",
   "name": "python",
   "nbconvert_exporter": "python",
   "pygments_lexer": "ipython3",
   "version": "3.10.4"
  }
 },
 "nbformat": 4,
 "nbformat_minor": 5
}
