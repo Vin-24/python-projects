{
 "cells": [
  {
   "cell_type": "code",
   "execution_count": 1,
   "id": "7360e2dd-93b5-4047-9bec-5dd78131c017",
   "metadata": {
    "tags": []
   },
   "outputs": [],
   "source": [
    "from cryptography.fernet import Fernet"
   ]
  },
  {
   "cell_type": "code",
   "execution_count": 2,
   "id": "e518dd47-44e2-427b-ade6-ce5adf0cc28f",
   "metadata": {
    "tags": []
   },
   "outputs": [
    {
     "name": "stdout",
     "output_type": "stream",
     "text": [
      "b'G1K8OnbEroQQ8JzXehIJ4euXMBAeb8AbMKWYpMdh6Hk='\n"
     ]
    }
   ],
   "source": [
    "# class passwordmanager:\n",
    "#     def __init__(self):\n",
    "#         self.key=None\n",
    "#         self.password_file=None\n",
    "#         self.password_dict={}\n",
    "#     def create_key(self, path):\n",
    "#         self.key= Fernet.generate_key()\n",
    "#         print(self.key)\n",
    "        \n",
    "# pm= passwordmanager()\n",
    "# pm.create_key(None)"
   ]
  },
  {
   "cell_type": "code",
   "execution_count": 2,
   "id": "6bec960c-be73-4892-90fe-ba04e648680e",
   "metadata": {
    "tags": []
   },
   "outputs": [
    {
     "name": "stdout",
     "output_type": "stream",
     "text": [
      "what do you want to do?\n",
      "          [1] create a new key\n",
      "          [2] load an existing key\n",
      "          [3] craete a new password file\n",
      "          [4] load existing password file\n",
      "          [5] add anew password\n",
      "          [6] get a password\n",
      "          [q] Quit\n"
     ]
    },
    {
     "name": "stdin",
     "output_type": "stream",
     "text": [
      "enter your choice 3\n",
      "enter path: new.pass\n"
     ]
    },
    {
     "ename": "TypeError",
     "evalue": "argument should be a bytes-like object or ASCII string, not 'NoneType'",
     "output_type": "error",
     "traceback": [
      "\u001b[1;31m---------------------------------------------------------------------------\u001b[0m",
      "\u001b[1;31mTypeError\u001b[0m                                 Traceback (most recent call last)",
      "Cell \u001b[1;32mIn[2], line 93\u001b[0m\n\u001b[0;32m     90\u001b[0m             \u001b[38;5;28mprint\u001b[39m(\u001b[38;5;124m\"\u001b[39m\u001b[38;5;124minvalid choice!\u001b[39m\u001b[38;5;124m\"\u001b[39m)\n\u001b[0;32m     92\u001b[0m \u001b[38;5;28;01mif\u001b[39;00m \u001b[38;5;18m__name__\u001b[39m \u001b[38;5;241m==\u001b[39m \u001b[38;5;124m\"\u001b[39m\u001b[38;5;124m__main__\u001b[39m\u001b[38;5;124m\"\u001b[39m :\n\u001b[1;32m---> 93\u001b[0m     \u001b[43mmain\u001b[49m\u001b[43m(\u001b[49m\u001b[43m)\u001b[49m\n",
      "Cell \u001b[1;32mIn[2], line 70\u001b[0m, in \u001b[0;36mmain\u001b[1;34m()\u001b[0m\n\u001b[0;32m     68\u001b[0m \u001b[38;5;28;01melif\u001b[39;00m choice \u001b[38;5;241m==\u001b[39m \u001b[38;5;124m'\u001b[39m\u001b[38;5;124m3\u001b[39m\u001b[38;5;124m'\u001b[39m: \n\u001b[0;32m     69\u001b[0m     path \u001b[38;5;241m=\u001b[39m \u001b[38;5;28minput\u001b[39m(\u001b[38;5;124m\"\u001b[39m\u001b[38;5;124menter path:\u001b[39m\u001b[38;5;124m\"\u001b[39m)\n\u001b[1;32m---> 70\u001b[0m     \u001b[43mpm\u001b[49m\u001b[38;5;241;43m.\u001b[39;49m\u001b[43mcreate_password_file\u001b[49m\u001b[43m(\u001b[49m\u001b[43mpath\u001b[49m\u001b[43m,\u001b[49m\u001b[43m \u001b[49m\u001b[43mpassword\u001b[49m\u001b[43m)\u001b[49m\n\u001b[0;32m     72\u001b[0m \u001b[38;5;28;01melif\u001b[39;00m choice \u001b[38;5;241m==\u001b[39m \u001b[38;5;124m'\u001b[39m\u001b[38;5;124m4\u001b[39m\u001b[38;5;124m'\u001b[39m: \n\u001b[0;32m     73\u001b[0m     path \u001b[38;5;241m=\u001b[39m \u001b[38;5;28minput\u001b[39m(\u001b[38;5;124m\"\u001b[39m\u001b[38;5;124menter path:\u001b[39m\u001b[38;5;124m\"\u001b[39m)\n",
      "Cell \u001b[1;32mIn[2], line 21\u001b[0m, in \u001b[0;36mpasswordmanager.create_password_file\u001b[1;34m(self, path, initial_values)\u001b[0m\n\u001b[0;32m     19\u001b[0m \u001b[38;5;28;01mif\u001b[39;00m initial_values \u001b[38;5;129;01mis\u001b[39;00m \u001b[38;5;129;01mnot\u001b[39;00m \u001b[38;5;28;01mNone\u001b[39;00m:\n\u001b[0;32m     20\u001b[0m     \u001b[38;5;28;01mfor\u001b[39;00m key, value \u001b[38;5;129;01min\u001b[39;00m initial_values\u001b[38;5;241m.\u001b[39mitems():\n\u001b[1;32m---> 21\u001b[0m         \u001b[38;5;28;43mself\u001b[39;49m\u001b[38;5;241;43m.\u001b[39;49m\u001b[43madd_password\u001b[49m\u001b[43m(\u001b[49m\u001b[43mkey\u001b[49m\u001b[43m,\u001b[49m\u001b[43m \u001b[49m\u001b[43mvalue\u001b[49m\u001b[43m)\u001b[49m\n",
      "Cell \u001b[1;32mIn[2], line 35\u001b[0m, in \u001b[0;36mpasswordmanager.add_password\u001b[1;34m(self, site, password)\u001b[0m\n\u001b[0;32m     33\u001b[0m \u001b[38;5;28;01mif\u001b[39;00m \u001b[38;5;28mself\u001b[39m\u001b[38;5;241m.\u001b[39mpassword_file \u001b[38;5;129;01mis\u001b[39;00m \u001b[38;5;129;01mnot\u001b[39;00m \u001b[38;5;28;01mNone\u001b[39;00m:\n\u001b[0;32m     34\u001b[0m     \u001b[38;5;28;01mwith\u001b[39;00m \u001b[38;5;28mopen\u001b[39m(\u001b[38;5;28mself\u001b[39m\u001b[38;5;241m.\u001b[39mpassword_file, \u001b[38;5;124m'\u001b[39m\u001b[38;5;124ma+\u001b[39m\u001b[38;5;124m'\u001b[39m) \u001b[38;5;28;01mas\u001b[39;00m f:\n\u001b[1;32m---> 35\u001b[0m         encrypted \u001b[38;5;241m=\u001b[39m \u001b[43mFernet\u001b[49m\u001b[43m(\u001b[49m\u001b[38;5;28;43mself\u001b[39;49m\u001b[38;5;241;43m.\u001b[39;49m\u001b[43mkey\u001b[49m\u001b[43m)\u001b[49m\u001b[38;5;241m.\u001b[39mencrypt(password\u001b[38;5;241m.\u001b[39mencode())\n\u001b[0;32m     36\u001b[0m         f\u001b[38;5;241m.\u001b[39mwrite(site \u001b[38;5;241m+\u001b[39m \u001b[38;5;124m\"\u001b[39m\u001b[38;5;124m:\u001b[39m\u001b[38;5;124m\"\u001b[39m \u001b[38;5;241m+\u001b[39m encrypted\u001b[38;5;241m.\u001b[39mdecode() \u001b[38;5;241m+\u001b[39m \u001b[38;5;124m\"\u001b[39m\u001b[38;5;130;01m\\n\u001b[39;00m\u001b[38;5;124m\"\u001b[39m)\n",
      "File \u001b[1;32m~\\AppData\\Local\\Programs\\Python\\Python310\\lib\\site-packages\\cryptography\\fernet.py:34\u001b[0m, in \u001b[0;36mFernet.__init__\u001b[1;34m(self, key, backend)\u001b[0m\n\u001b[0;32m     28\u001b[0m \u001b[38;5;28;01mdef\u001b[39;00m \u001b[38;5;21m__init__\u001b[39m(\n\u001b[0;32m     29\u001b[0m     \u001b[38;5;28mself\u001b[39m,\n\u001b[0;32m     30\u001b[0m     key: typing\u001b[38;5;241m.\u001b[39mUnion[\u001b[38;5;28mbytes\u001b[39m, \u001b[38;5;28mstr\u001b[39m],\n\u001b[0;32m     31\u001b[0m     backend: typing\u001b[38;5;241m.\u001b[39mAny \u001b[38;5;241m=\u001b[39m \u001b[38;5;28;01mNone\u001b[39;00m,\n\u001b[0;32m     32\u001b[0m ) \u001b[38;5;241m-\u001b[39m\u001b[38;5;241m>\u001b[39m \u001b[38;5;28;01mNone\u001b[39;00m:\n\u001b[0;32m     33\u001b[0m     \u001b[38;5;28;01mtry\u001b[39;00m:\n\u001b[1;32m---> 34\u001b[0m         key \u001b[38;5;241m=\u001b[39m \u001b[43mbase64\u001b[49m\u001b[38;5;241;43m.\u001b[39;49m\u001b[43murlsafe_b64decode\u001b[49m\u001b[43m(\u001b[49m\u001b[43mkey\u001b[49m\u001b[43m)\u001b[49m\n\u001b[0;32m     35\u001b[0m     \u001b[38;5;28;01mexcept\u001b[39;00m binascii\u001b[38;5;241m.\u001b[39mError \u001b[38;5;28;01mas\u001b[39;00m exc:\n\u001b[0;32m     36\u001b[0m         \u001b[38;5;28;01mraise\u001b[39;00m \u001b[38;5;167;01mValueError\u001b[39;00m(\n\u001b[0;32m     37\u001b[0m             \u001b[38;5;124m\"\u001b[39m\u001b[38;5;124mFernet key must be 32 url-safe base64-encoded bytes.\u001b[39m\u001b[38;5;124m\"\u001b[39m\n\u001b[0;32m     38\u001b[0m         ) \u001b[38;5;28;01mfrom\u001b[39;00m \u001b[38;5;21;01mexc\u001b[39;00m\n",
      "File \u001b[1;32m~\\AppData\\Local\\Programs\\Python\\Python310\\lib\\base64.py:131\u001b[0m, in \u001b[0;36murlsafe_b64decode\u001b[1;34m(s)\u001b[0m\n\u001b[0;32m    120\u001b[0m \u001b[38;5;28;01mdef\u001b[39;00m \u001b[38;5;21murlsafe_b64decode\u001b[39m(s):\n\u001b[0;32m    121\u001b[0m \u001b[38;5;250m    \u001b[39m\u001b[38;5;124;03m\"\"\"Decode bytes using the URL- and filesystem-safe Base64 alphabet.\u001b[39;00m\n\u001b[0;32m    122\u001b[0m \n\u001b[0;32m    123\u001b[0m \u001b[38;5;124;03m    Argument s is a bytes-like object or ASCII string to decode.  The result\u001b[39;00m\n\u001b[1;32m   (...)\u001b[0m\n\u001b[0;32m    129\u001b[0m \u001b[38;5;124;03m    The alphabet uses '-' instead of '+' and '_' instead of '/'.\u001b[39;00m\n\u001b[0;32m    130\u001b[0m \u001b[38;5;124;03m    \"\"\"\u001b[39;00m\n\u001b[1;32m--> 131\u001b[0m     s \u001b[38;5;241m=\u001b[39m \u001b[43m_bytes_from_decode_data\u001b[49m\u001b[43m(\u001b[49m\u001b[43ms\u001b[49m\u001b[43m)\u001b[49m\n\u001b[0;32m    132\u001b[0m     s \u001b[38;5;241m=\u001b[39m s\u001b[38;5;241m.\u001b[39mtranslate(_urlsafe_decode_translation)\n\u001b[0;32m    133\u001b[0m     \u001b[38;5;28;01mreturn\u001b[39;00m b64decode(s)\n",
      "File \u001b[1;32m~\\AppData\\Local\\Programs\\Python\\Python310\\lib\\base64.py:45\u001b[0m, in \u001b[0;36m_bytes_from_decode_data\u001b[1;34m(s)\u001b[0m\n\u001b[0;32m     43\u001b[0m     \u001b[38;5;28;01mreturn\u001b[39;00m \u001b[38;5;28mmemoryview\u001b[39m(s)\u001b[38;5;241m.\u001b[39mtobytes()\n\u001b[0;32m     44\u001b[0m \u001b[38;5;28;01mexcept\u001b[39;00m \u001b[38;5;167;01mTypeError\u001b[39;00m:\n\u001b[1;32m---> 45\u001b[0m     \u001b[38;5;28;01mraise\u001b[39;00m \u001b[38;5;167;01mTypeError\u001b[39;00m(\u001b[38;5;124m\"\u001b[39m\u001b[38;5;124margument should be a bytes-like object or ASCII \u001b[39m\u001b[38;5;124m\"\u001b[39m\n\u001b[0;32m     46\u001b[0m                     \u001b[38;5;124m\"\u001b[39m\u001b[38;5;124mstring, not \u001b[39m\u001b[38;5;132;01m%r\u001b[39;00m\u001b[38;5;124m\"\u001b[39m \u001b[38;5;241m%\u001b[39m s\u001b[38;5;241m.\u001b[39m\u001b[38;5;18m__class__\u001b[39m\u001b[38;5;241m.\u001b[39m\u001b[38;5;18m__name__\u001b[39m) \u001b[38;5;28;01mfrom\u001b[39;00m \u001b[38;5;28mNone\u001b[39m\n",
      "\u001b[1;31mTypeError\u001b[0m: argument should be a bytes-like object or ASCII string, not 'NoneType'"
     ]
    }
   ],
   "source": [
    "from cryptography.fernet import Fernet\n",
    "class passwordmanager:\n",
    "    def __init__(self):\n",
    "        self.key=None\n",
    "        self.password_file=None\n",
    "        self.password_dict={}\n",
    "    def create_key(self, path):\n",
    "        self.key= Fernet.generate_key()\n",
    "        with open(path, 'wb') as f:\n",
    "            f.write(self.key)\n",
    "            \n",
    "    def load_key(self, path):\n",
    "        with open(path, 'rb')as f:\n",
    "            self.key=f.read()\n",
    "        \n",
    "    def create_password_file(self, path, initial_values=None):\n",
    "        self.password_file = path\n",
    "        \n",
    "        if initial_values is not None:\n",
    "            for key, value in initial_values.items():\n",
    "                self.add_password(key, value)\n",
    "                \n",
    "    def load_password_file(self, path):\n",
    "        self.password_file= path\n",
    "        with open(path, 'r')as f:\n",
    "            for line in f:\n",
    "                site, encrypted = line.split(\":\")\n",
    "                self.password_dict[site] = Fernet(self.key).decrypt(encrypted.encode()).decode()\n",
    "                \n",
    "    def add_password(self, site, password):\n",
    "        self.password_dict[site]= password\n",
    "        \n",
    "        if self.password_file is not None:\n",
    "            with open(self.password_file, 'a+') as f:\n",
    "                encrypted = Fernet(self.key).encrypt(password.encode())\n",
    "                f.write(site + \":\" + encrypted.decode() + \"\\n\")\n",
    "          \n",
    "    def get_password(self, site):\n",
    "        return self.password_dict[site]\n",
    "    \n",
    "    \n",
    "def main():\n",
    "    password={\"email\":\"1234567\",\n",
    "             \"facebook\":\"myfacebook\",\n",
    "             \"google\":\"mygoogle\",\n",
    "             \"python\":\"helloworld\"}\n",
    "    pm= passwordmanager()\n",
    "    \n",
    "    print(\"\"\"what do you want to do?\n",
    "          [1] create a new key\n",
    "          [2] load an existing key\n",
    "          [3] craete a new password file\n",
    "          [4] load existing password file\n",
    "          [5] add anew password\n",
    "          [6] get a password\n",
    "          [q] Quit\"\"\")\n",
    "    done = False\n",
    "    while not done:\n",
    "        choice= input(\"enter your choice\")\n",
    "        if choice == '1':\n",
    "            path = input(\"enter path:\")\n",
    "            pm.create_key(path)\n",
    "            \n",
    "        elif choice == '2': \n",
    "            path = input(\"enter path:\")\n",
    "            pm.load_key(path)\n",
    "    \n",
    "        elif choice == '3': \n",
    "            path = input(\"enter path:\")\n",
    "            pm.create_password_file(path, password)\n",
    "        \n",
    "        elif choice == '4': \n",
    "            path = input(\"enter path:\")\n",
    "            pm.load_password_file(path)\n",
    "            \n",
    "        elif choice == '5': \n",
    "            site = input(\"enter the site:\")\n",
    "            password= input(\"enter the password:\")\n",
    "            pm.add_password(site, password)\n",
    "            \n",
    "        elif choice == '6':\n",
    "            site = input(\"what site do you want:\")\n",
    "            print(f\"password for {site} is {pm.get_password(site)}\")\n",
    "            \n",
    "        elif choice == 'q':\n",
    "            done = True\n",
    "            print(\"thank you! please visit again\")\n",
    "            \n",
    "        else:\n",
    "            print(\"invalid choice!\")\n",
    "            \n",
    "if __name__ == \"__main__\" :\n",
    "    main()\n"
   ]
  },
  {
   "cell_type": "code",
   "execution_count": null,
   "id": "ca401f7b-db3c-4b52-a1a7-806bb792833d",
   "metadata": {},
   "outputs": [],
   "source": []
  }
 ],
 "metadata": {
  "kernelspec": {
   "display_name": "Python 3 (ipykernel)",
   "language": "python",
   "name": "python3"
  },
  "language_info": {
   "codemirror_mode": {
    "name": "ipython",
    "version": 3
   },
   "file_extension": ".py",
   "mimetype": "text/x-python",
   "name": "python",
   "nbconvert_exporter": "python",
   "pygments_lexer": "ipython3",
   "version": "3.10.4"
  }
 },
 "nbformat": 4,
 "nbformat_minor": 5
}
