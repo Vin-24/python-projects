{
 "cells": [
  {
   "cell_type": "code",
   "execution_count": 3,
   "id": "d3c1538d-d213-4074-bb32-00ae1bca30c1",
   "metadata": {
    "tags": []
   },
   "outputs": [
    {
     "name": "stdout",
     "output_type": "stream",
     "text": [
      "welcome to the quiz\n"
     ]
    },
    {
     "name": "stdin",
     "output_type": "stream",
     "text": [
      "do you want to play?  yes\n"
     ]
    },
    {
     "name": "stdout",
     "output_type": "stream",
     "text": [
      "the game is starting\n"
     ]
    },
    {
     "name": "stdin",
     "output_type": "stream",
     "text": [
      "what does cpu stand for?  dscds\n"
     ]
    },
    {
     "name": "stdout",
     "output_type": "stream",
     "text": [
      "incorrect\n"
     ]
    },
    {
     "name": "stdin",
     "output_type": "stream",
     "text": [
      "who is the pm of india?  narendra modi\n"
     ]
    },
    {
     "name": "stdout",
     "output_type": "stream",
     "text": [
      "correct\n"
     ]
    },
    {
     "name": "stdin",
     "output_type": "stream",
     "text": [
      "the capital of india is___  delhi\n"
     ]
    },
    {
     "name": "stdout",
     "output_type": "stream",
     "text": [
      "incorrect\n"
     ]
    },
    {
     "name": "stdin",
     "output_type": "stream",
     "text": [
      "national bird of india is____  adsc\n"
     ]
    },
    {
     "name": "stdout",
     "output_type": "stream",
     "text": [
      "incorrect\n"
     ]
    },
    {
     "name": "stdin",
     "output_type": "stream",
     "text": [
      "who wins the ipl 2023?   dsdsc\n"
     ]
    },
    {
     "name": "stdout",
     "output_type": "stream",
     "text": [
      "incorrect\n",
      "you got 1 question correct\n",
      "you got 25.0%.\n"
     ]
    }
   ],
   "source": [
    "print(\"welcome to the quiz\")\n",
    "playing=input(\"do you want to play? \")\n",
    "if playing.lower()!=\"yes\":\n",
    "    quit()\n",
    "print(\"the game is starting\")\n",
    "\n",
    "score=0\n",
    "\n",
    "answer=input(\"what does cpu stand for? \")\n",
    "if answer.lower() == \"central processing unit\":\n",
    "    print('correct')\n",
    "    score+=1\n",
    "else:\n",
    "    print('incorrect')\n",
    "\n",
    "answer=input(\"who is the pm of india? \")\n",
    "if answer.lower() == \"narendra modi\":\n",
    "    print('correct')\n",
    "    score+=1\n",
    "else:\n",
    "    print('incorrect')\n",
    "    \n",
    "answer=input(\"the capital of india is___ \")\n",
    "if answer.lower() == \"Delhi\":\n",
    "    print('correct')\n",
    "    score+=1\n",
    "else:\n",
    "    print('incorrect')\n",
    "\n",
    "\n",
    "answer=input(\"national bird of india is____ \")\n",
    "if answer.lower() == \"peacock\":\n",
    "    print('correct')\n",
    "    score+=1\n",
    "else:\n",
    "    print('incorrect')\n",
    "\n",
    "\n",
    "answer=input(\"who wins the ipl 2023?  \")\n",
    "if answer.lower() == \"chennai super king\":\n",
    "    print('correct')\n",
    "    score+=1\n",
    "else:\n",
    "    print('incorrect')  \n",
    "    \n",
    "print(f\"you got {score} question correct\") \n",
    "print(f\"you got {(score/4)*100}%.\")"
   ]
  },
  {
   "cell_type": "code",
   "execution_count": null,
   "id": "1a5d7705-610a-4558-b091-32bdcf8e9660",
   "metadata": {},
   "outputs": [],
   "source": []
  }
 ],
 "metadata": {
  "kernelspec": {
   "display_name": "Python 3 (ipykernel)",
   "language": "python",
   "name": "python3"
  },
  "language_info": {
   "codemirror_mode": {
    "name": "ipython",
    "version": 3
   },
   "file_extension": ".py",
   "mimetype": "text/x-python",
   "name": "python",
   "nbconvert_exporter": "python",
   "pygments_lexer": "ipython3",
   "version": "3.10.4"
  }
 },
 "nbformat": 4,
 "nbformat_minor": 5
}
