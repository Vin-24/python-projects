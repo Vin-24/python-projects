{
 "cells": [
  {
   "cell_type": "code",
   "execution_count": 4,
   "id": "8bad09ff-6cdf-448e-8dc8-9d19f8359a98",
   "metadata": {
    "tags": []
   },
   "outputs": [
    {
     "name": "stdin",
     "output_type": "stream",
     "text": [
      "type rock/paper/scissior\n",
      " press q to quit the game  rock\n"
     ]
    },
    {
     "name": "stdout",
     "output_type": "stream",
     "text": [
      "computer chooses rock\n",
      "it's a draw\n"
     ]
    },
    {
     "name": "stdin",
     "output_type": "stream",
     "text": [
      "type rock/paper/scissior\n",
      " press q to quit the game  paper\n"
     ]
    },
    {
     "name": "stdout",
     "output_type": "stream",
     "text": [
      "computer chooses scissiors\n",
      "you lost\n"
     ]
    },
    {
     "name": "stdin",
     "output_type": "stream",
     "text": [
      "type rock/paper/scissior\n",
      " press q to quit the game  paper\n"
     ]
    },
    {
     "name": "stdout",
     "output_type": "stream",
     "text": [
      "computer chooses scissiors\n",
      "you lost\n"
     ]
    },
    {
     "name": "stdin",
     "output_type": "stream",
     "text": [
      "type rock/paper/scissior\n",
      " press q to quit the game  rock\n"
     ]
    },
    {
     "name": "stdout",
     "output_type": "stream",
     "text": [
      "computer chooses paper\n",
      "you lost\n"
     ]
    },
    {
     "name": "stdin",
     "output_type": "stream",
     "text": [
      "type rock/paper/scissior\n",
      " press q to quit the game  paper\n"
     ]
    },
    {
     "name": "stdout",
     "output_type": "stream",
     "text": [
      "computer chooses scissiors\n",
      "you lost\n"
     ]
    },
    {
     "name": "stdin",
     "output_type": "stream",
     "text": [
      "type rock/paper/scissior\n",
      " press q to quit the game  rock\n"
     ]
    },
    {
     "name": "stdout",
     "output_type": "stream",
     "text": [
      "computer chooses paper\n",
      "you lost\n"
     ]
    },
    {
     "name": "stdin",
     "output_type": "stream",
     "text": [
      "type rock/paper/scissior\n",
      " press q to quit the game  rock\n"
     ]
    },
    {
     "name": "stdout",
     "output_type": "stream",
     "text": [
      "computer chooses paper\n",
      "you lost\n"
     ]
    },
    {
     "name": "stdin",
     "output_type": "stream",
     "text": [
      "type rock/paper/scissior\n",
      " press q to quit the game  rock\n"
     ]
    },
    {
     "name": "stdout",
     "output_type": "stream",
     "text": [
      "computer chooses paper\n",
      "you lost\n"
     ]
    },
    {
     "name": "stdin",
     "output_type": "stream",
     "text": [
      "type rock/paper/scissior\n",
      " press q to quit the game  rock\n"
     ]
    },
    {
     "name": "stdout",
     "output_type": "stream",
     "text": [
      "computer chooses paper\n",
      "you lost\n"
     ]
    },
    {
     "name": "stdin",
     "output_type": "stream",
     "text": [
      "type rock/paper/scissior\n",
      " press q to quit the game  rock\n"
     ]
    },
    {
     "name": "stdout",
     "output_type": "stream",
     "text": [
      "computer chooses paper\n",
      "you lost\n"
     ]
    },
    {
     "name": "stdin",
     "output_type": "stream",
     "text": [
      "type rock/paper/scissior\n",
      " press q to quit the game  rock\n"
     ]
    },
    {
     "name": "stdout",
     "output_type": "stream",
     "text": [
      "computer chooses rock\n",
      "it's a draw\n"
     ]
    },
    {
     "name": "stdin",
     "output_type": "stream",
     "text": [
      "type rock/paper/scissior\n",
      " press q to quit the game  rock\n"
     ]
    },
    {
     "name": "stdout",
     "output_type": "stream",
     "text": [
      "computer chooses scissiors\n",
      "you won\n"
     ]
    },
    {
     "name": "stdin",
     "output_type": "stream",
     "text": [
      "type rock/paper/scissior\n",
      " press q to quit the game  q\n"
     ]
    },
    {
     "name": "stdout",
     "output_type": "stream",
     "text": [
      "you wons 1 times and computer won 9 times \n",
      "goodbye\n"
     ]
    }
   ],
   "source": [
    "import random\n",
    "\n",
    "user_wins=0\n",
    "computer_wins=0\n",
    "options=['rock','paper','scissiors' ]\n",
    "while True:\n",
    "    user_input=input(\"type rock/paper/scissior\\n press q to quit the game \").lower()\n",
    "    if user_input=='q':\n",
    "        break\n",
    "    if user_input not in  options:  \n",
    "        continue\n",
    "    r=random.randint(0,2)\n",
    "    #rock; 0, paper; 1, scissors;2\n",
    "    computer_choice=options[r]\n",
    "    print(f\"computer chooses {computer_choice}\")\n",
    "    \n",
    "    if computer_choice==user_input:\n",
    "        print(\"it's a draw\")\n",
    "        \n",
    "    \n",
    "    elif user_input=='rock' and computer_choice=='scissiors':\n",
    "        print('you won')\n",
    "        user_wins+=1\n",
    "     \n",
    "    elif user_input=='paper' and computer_choice=='rock':\n",
    "            print('you won!')\n",
    "            user_win+=1\n",
    "            \n",
    "    elif user_input=='scissiors' and computer_choice=='paper':\n",
    "            print('you won!')\n",
    "            user_win+=1 \n",
    "        \n",
    "    else:\n",
    "        print('you lost')\n",
    "        computer_wins+=1\n",
    "print(f\"you wons {user_wins} times and computer won {computer_wins} times \")  \n",
    "print('goodbye')"
   ]
  },
  {
   "cell_type": "code",
   "execution_count": null,
   "id": "2701b790-7d73-4f01-afee-15a7a3eb0146",
   "metadata": {},
   "outputs": [],
   "source": []
  }
 ],
 "metadata": {
  "kernelspec": {
   "display_name": "Python 3 (ipykernel)",
   "language": "python",
   "name": "python3"
  },
  "language_info": {
   "codemirror_mode": {
    "name": "ipython",
    "version": 3
   },
   "file_extension": ".py",
   "mimetype": "text/x-python",
   "name": "python",
   "nbconvert_exporter": "python",
   "pygments_lexer": "ipython3",
   "version": "3.10.4"
  }
 },
 "nbformat": 4,
 "nbformat_minor": 5
}
