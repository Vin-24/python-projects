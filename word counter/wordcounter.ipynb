{
 "cells": [
  {
   "cell_type": "code",
   "execution_count": 23,
   "id": "6b49282d-5d4b-44ef-ae77-f5967774f2fa",
   "metadata": {
    "tags": []
   },
   "outputs": [],
   "source": [
    "#f = open(\"E:\\\\vinay\\\\python project\\\\word counter\\\\forword.txt\",\"r\")"
   ]
  },
  {
   "cell_type": "code",
   "execution_count": 37,
   "id": "9b653141-f969-4184-b58d-27ea97e6586d",
   "metadata": {
    "tags": []
   },
   "outputs": [
    {
     "name": "stdout",
     "output_type": "stream",
     "text": [
      "[['A', 'text', 'file', '(sometimes', 'spelled', 'textfile;', 'an', 'old', 'alternative', 'name', 'is', 'flatfile)', 'is', 'a', 'kind', 'of', 'computer', 'file', 'that', 'is', 'structured', 'as', 'a', 'sequence', 'of', 'lines', 'of', 'electronic', 'text.', 'A', 'text', 'file', 'exists', 'stored', 'as', 'data', 'within', 'a', 'computer', 'file', 'system.', 'In', 'operating', 'systems', 'such', 'as', 'CP/M', 'and', 'MS-DOS,', 'where', 'the', 'operating', 'system', 'does', 'not', 'keep', 'track', 'of', 'the', 'file', 'size', 'in', 'bytes,', 'the', 'end', 'of', 'a', 'text', 'file', 'is', 'denoted', 'by', 'placing', 'one', 'or', 'more', 'special', 'characters,', 'known', 'as', 'an', 'end-of-file', '(EOF)', 'marker,', 'as', 'padding', 'after', 'the', 'last', 'line', 'in', 'a', 'text', 'file.', 'On', 'modern', 'operating', 'systems', 'such', 'as', 'Microsoft', 'Windows', 'and', 'Unix-like', 'systems,', 'text', 'files', 'do', 'not', 'contain', 'any', 'special', 'EOF', 'character,', 'because', 'file', 'systems', 'on', 'those', 'operating', 'systems', 'keep', 'track', 'of', 'the', 'file', 'size', 'in', 'bytes.', 'Most', 'text', 'files', 'need', 'to', 'have', 'end-of-line', 'delimiters,', 'which', 'are', 'done', 'in', 'a', 'few', 'different', 'ways', 'depending', 'on', 'operating', 'system.', 'Some', 'operating', 'systems', 'with', 'record-orientated', 'file', 'systems', 'may', 'not', 'use', 'new', 'line', 'delimiters', 'and', 'will', 'primarily', 'store', 'text', 'files', 'with', 'lines', 'separated', 'as', 'fixed', 'or', 'variable', 'length', 'records.']]\n"
     ]
    },
    {
     "data": {
      "text/plain": [
       "177"
      ]
     },
     "execution_count": 37,
     "metadata": {},
     "output_type": "execute_result"
    }
   ],
   "source": [
    "f = open(\"E:\\\\vinay\\\\python project\\\\word counter\\\\forword.txt\",\"r\")\n",
    "c=[]\n",
    "for x in f:\n",
    "    #print(x)\n",
    "    c.append(x.split(' '))   \n",
    "print(c)  \n",
    "len(c[0])"
   ]
  },
  {
   "cell_type": "code",
   "execution_count": 38,
   "id": "b76053f5-8e87-4422-83d5-a38500d3c0e8",
   "metadata": {
    "tags": []
   },
   "outputs": [
    {
     "data": {
      "text/plain": [
       "177"
      ]
     },
     "execution_count": 38,
     "metadata": {},
     "output_type": "execute_result"
    }
   ],
   "source": [
    "count=0\n",
    "for i in range(len(c[0])):\n",
    "    count+=1\n",
    "count    "
   ]
  },
  {
   "cell_type": "code",
   "execution_count": 36,
   "id": "c44dbe16-1dc1-4228-b9b7-961a4bc45d1e",
   "metadata": {
    "tags": []
   },
   "outputs": [
    {
     "data": {
      "text/plain": [
       "177"
      ]
     },
     "execution_count": 36,
     "metadata": {},
     "output_type": "execute_result"
    }
   ],
   "source": [
    "len(c[0])"
   ]
  },
  {
   "cell_type": "code",
   "execution_count": null,
   "id": "ddff3301-00bd-47cf-b23f-f1d5e60c2820",
   "metadata": {},
   "outputs": [],
   "source": []
  }
 ],
 "metadata": {
  "kernelspec": {
   "display_name": "Python 3 (ipykernel)",
   "language": "python",
   "name": "python3"
  },
  "language_info": {
   "codemirror_mode": {
    "name": "ipython",
    "version": 3
   },
   "file_extension": ".py",
   "mimetype": "text/x-python",
   "name": "python",
   "nbconvert_exporter": "python",
   "pygments_lexer": "ipython3",
   "version": "3.10.4"
  }
 },
 "nbformat": 4,
 "nbformat_minor": 5
}
